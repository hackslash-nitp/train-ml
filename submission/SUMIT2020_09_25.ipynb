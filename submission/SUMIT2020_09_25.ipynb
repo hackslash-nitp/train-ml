{
  "nbformat": 4,
  "nbformat_minor": 0,
  "metadata": {
    "kernelspec": {
      "display_name": "Python 3",
      "language": "python",
      "name": "python3"
    },
    "language_info": {
      "codemirror_mode": {
        "name": "ipython",
        "version": 3
      },
      "file_extension": ".py",
      "mimetype": "text/x-python",
      "name": "python",
      "nbconvert_exporter": "python",
      "pygments_lexer": "ipython3",
      "version": "3.7.4"
    },
    "colab": {
      "name": "SUMIT2020-09-25.ipynb",
      "provenance": []
    }
  },
  "cells": [
    {
      "cell_type": "markdown",
      "metadata": {
        "id": "55No34zu9vg4",
        "colab_type": "text"
      },
      "source": [
        "# <font color=\"Red\"> GRAY INTERFACE </font>\n",
        "\n",
        "## <font color=\"Blue\"> HackSlash </font>"
      ]
    },
    {
      "cell_type": "markdown",
      "metadata": {
        "id": "O6dQOKRo9vg6",
        "colab_type": "text"
      },
      "source": [
        "----"
      ]
    },
    {
      "cell_type": "markdown",
      "metadata": {
        "id": "3XdIkLBx9vg8",
        "colab_type": "text"
      },
      "source": [
        "# <font color=\"Green\">NumPy<font/>"
      ]
    },
    {
      "cell_type": "markdown",
      "metadata": {
        "id": "lvir5M__9vg-",
        "colab_type": "text"
      },
      "source": [
        "## Exercise 1: Creating Numpy arrays"
      ]
    },
    {
      "cell_type": "markdown",
      "metadata": {
        "id": "Lb3v9X-C9vhA",
        "colab_type": "text"
      },
      "source": [
        "----"
      ]
    },
    {
      "cell_type": "markdown",
      "metadata": {
        "id": "FMjIgKJg9vhB",
        "colab_type": "text"
      },
      "source": [
        "#### Write & Run CODE to answer each of the given problem statement.\n",
        "##### Note that Sample Output of the problem statement is also given for reference. "
      ]
    },
    {
      "cell_type": "markdown",
      "metadata": {
        "id": "vYwbtr5C9vhB",
        "colab_type": "text"
      },
      "source": [
        "----"
      ]
    },
    {
      "cell_type": "markdown",
      "metadata": {
        "id": "0E-p8hbr9vhF",
        "colab_type": "text"
      },
      "source": [
        "## Import numpy"
      ]
    },
    {
      "cell_type": "code",
      "metadata": {
        "id": "71YIX_wo9vhI",
        "colab_type": "code",
        "colab": {}
      },
      "source": [
        "import numpy as np"
      ],
      "execution_count": null,
      "outputs": []
    },
    {
      "cell_type": "markdown",
      "metadata": {
        "id": "Hh-vmf4s9vhN",
        "colab_type": "text"
      },
      "source": [
        "## Create Numpy arrays from Python list\n"
      ]
    },
    {
      "cell_type": "markdown",
      "metadata": {
        "id": "L0g293UB9vhP",
        "colab_type": "text"
      },
      "source": [
        "#### Create Numpy 1d array from list\n",
        "\n",
        "`array([1, 2, 3])`"
      ]
    },
    {
      "cell_type": "code",
      "metadata": {
        "id": "yzBh_iKr9vhQ",
        "colab_type": "code",
        "colab": {}
      },
      "source": [
        "list_1d = [1,2,3]"
      ],
      "execution_count": null,
      "outputs": []
    },
    {
      "cell_type": "code",
      "metadata": {
        "id": "AMkoYe3j9vhV",
        "colab_type": "code",
        "colab": {
          "base_uri": "https://localhost:8080/",
          "height": 34
        },
        "outputId": "62a59c15-222c-4d5e-a67a-039f21c9d775"
      },
      "source": [
        "arr1d=np.array(list_1d)\n",
        "print(arr1d)"
      ],
      "execution_count": null,
      "outputs": [
        {
          "output_type": "stream",
          "text": [
            "[1 2 3]\n"
          ],
          "name": "stdout"
        }
      ]
    },
    {
      "cell_type": "markdown",
      "metadata": {
        "id": "hdwZm6Na9vhj",
        "colab_type": "text"
      },
      "source": [
        "#### Create Numpy 2d array from list\n",
        "\n",
        "`array([[1, 2, 3],\n",
        "       [4, 5, 6]])`"
      ]
    },
    {
      "cell_type": "code",
      "metadata": {
        "id": "tNAew61P9vhk",
        "colab_type": "code",
        "colab": {}
      },
      "source": [
        "list_2d = [[1,2,3], [4,5,6]]"
      ],
      "execution_count": null,
      "outputs": []
    },
    {
      "cell_type": "code",
      "metadata": {
        "id": "C58C_oi_9vhs",
        "colab_type": "code",
        "colab": {
          "base_uri": "https://localhost:8080/",
          "height": 51
        },
        "outputId": "939f799c-2856-49f4-cc77-4594aaa4e0ef"
      },
      "source": [
        "arr2d=np.array(list_2d)\n",
        "print(arr2d)"
      ],
      "execution_count": null,
      "outputs": [
        {
          "output_type": "stream",
          "text": [
            "[[1 2 3]\n",
            " [4 5 6]]\n"
          ],
          "name": "stdout"
        }
      ]
    },
    {
      "cell_type": "markdown",
      "metadata": {
        "id": "Bs1FAVdh9vhw",
        "colab_type": "text"
      },
      "source": [
        "#### Create Numpy 3d array from list"
      ]
    },
    {
      "cell_type": "markdown",
      "metadata": {
        "id": "3-lJkuhU9vhx",
        "colab_type": "text"
      },
      "source": [
        "`array([[[1, 2, 3],\n",
        "        [4, 5, 6]],\n",
        "       [[1, 2, 3],\n",
        "        [4, 5, 6]]])`"
      ]
    },
    {
      "cell_type": "code",
      "metadata": {
        "id": "GodWJ9qK9vhy",
        "colab_type": "code",
        "colab": {}
      },
      "source": [
        "list_3d = [[[1,2,3],[4,5,6]], [[1,2,3],[4,5,6]]]"
      ],
      "execution_count": null,
      "outputs": []
    },
    {
      "cell_type": "code",
      "metadata": {
        "id": "k1uR05H69vh2",
        "colab_type": "code",
        "colab": {
          "base_uri": "https://localhost:8080/",
          "height": 102
        },
        "outputId": "b65ce39a-f1ca-44b8-baa9-918cb6b92f46"
      },
      "source": [
        "arr3d=np.array(list_3d)\n",
        "print(arr3d)"
      ],
      "execution_count": null,
      "outputs": [
        {
          "output_type": "stream",
          "text": [
            "[[[1 2 3]\n",
            "  [4 5 6]]\n",
            "\n",
            " [[1 2 3]\n",
            "  [4 5 6]]]\n"
          ],
          "name": "stdout"
        }
      ]
    },
    {
      "cell_type": "markdown",
      "metadata": {
        "id": "IaERBRoo9vh9",
        "colab_type": "text"
      },
      "source": [
        "-----"
      ]
    },
    {
      "cell_type": "markdown",
      "metadata": {
        "id": "PRCqqvKN9vh-",
        "colab_type": "text"
      },
      "source": [
        "## Create Numpy arrays using functions"
      ]
    },
    {
      "cell_type": "markdown",
      "metadata": {
        "id": "btCyOKJL9vh_",
        "colab_type": "text"
      },
      "source": [
        "#### Create a Numpy 1d array of 10 zeros \n",
        "\n",
        " `array([ 0.,  0.,  0.,  0.,  0.,  0.,  0.,  0.,  0.,  0.])`"
      ]
    },
    {
      "cell_type": "code",
      "metadata": {
        "id": "C3wRTspr9vh_",
        "colab_type": "code",
        "colab": {
          "base_uri": "https://localhost:8080/",
          "height": 34
        },
        "outputId": "51e7ceac-2568-428f-9461-210ed87da156"
      },
      "source": [
        "arr01d=np.zeros((1,10))\n",
        "print(arr01d)"
      ],
      "execution_count": null,
      "outputs": [
        {
          "output_type": "stream",
          "text": [
            "[[0. 0. 0. 0. 0. 0. 0. 0. 0. 0.]]\n"
          ],
          "name": "stdout"
        }
      ]
    },
    {
      "cell_type": "markdown",
      "metadata": {
        "id": "nwEPij5F9viD",
        "colab_type": "text"
      },
      "source": [
        "#### Create a Numpy 1d array of 10 ones\n",
        "\n",
        "`array([ 1.,  1.,  1.,  1.,  1.,  1.,  1.,  1.,  1.,  1.])`"
      ]
    },
    {
      "cell_type": "code",
      "metadata": {
        "scrolled": true,
        "id": "efl7_9aK9viE",
        "colab_type": "code",
        "colab": {
          "base_uri": "https://localhost:8080/",
          "height": 34
        },
        "outputId": "f1424e77-20a2-438d-a76c-5f9d751e9891"
      },
      "source": [
        "arr11d=np.ones((1,10))\n",
        "print(arr11d)"
      ],
      "execution_count": null,
      "outputs": [
        {
          "output_type": "stream",
          "text": [
            "[[1. 1. 1. 1. 1. 1. 1. 1. 1. 1.]]\n"
          ],
          "name": "stdout"
        }
      ]
    },
    {
      "cell_type": "markdown",
      "metadata": {
        "id": "qm18HslT9viJ",
        "colab_type": "text"
      },
      "source": [
        "#### Create a Numpy 1d array of 10 fives\n",
        "\n",
        "`array([5, 5, 5, 5, 5, 5, 5, 5, 5, 5])`"
      ]
    },
    {
      "cell_type": "code",
      "metadata": {
        "id": "wPDfBofF9viL",
        "colab_type": "code",
        "colab": {
          "base_uri": "https://localhost:8080/",
          "height": 34
        },
        "outputId": "564735dd-0955-4282-a065-662c21e6be09"
      },
      "source": [
        "arr=5*np.ones((1,10),dtype=np.int)\n",
        "print(arr)"
      ],
      "execution_count": null,
      "outputs": [
        {
          "output_type": "stream",
          "text": [
            "[[5 5 5 5 5 5 5 5 5 5]]\n"
          ],
          "name": "stdout"
        }
      ]
    },
    {
      "cell_type": "markdown",
      "metadata": {
        "id": "WPvaR37T9viO",
        "colab_type": "text"
      },
      "source": [
        "#### Create a Numpy 1d array consisting of all the integers from 10 to 50\n",
        "\n",
        "`array([10, 11, 12, 13, 14, 15, 16, 17, 18, 19, 20, 21, 22, 23, 24, 25, 26,\n",
        "       27, 28, 29, 30, 31, 32, 33, 34, 35, 36, 37, 38, 39, 40, 41, 42, 43,\n",
        "       44, 45, 46, 47, 48, 49, 50])`"
      ]
    },
    {
      "cell_type": "code",
      "metadata": {
        "id": "6QmtwvU79viP",
        "colab_type": "code",
        "colab": {
          "base_uri": "https://localhost:8080/",
          "height": 51
        },
        "outputId": "012b5f30-82de-4f3c-a831-f33149858b51"
      },
      "source": [
        "list_int=[i for i in range(10,51)]\n",
        "arr_int=np.array(list_int)\n",
        "print(arr_int)"
      ],
      "execution_count": null,
      "outputs": [
        {
          "output_type": "stream",
          "text": [
            "[10 11 12 13 14 15 16 17 18 19 20 21 22 23 24 25 26 27 28 29 30 31 32 33\n",
            " 34 35 36 37 38 39 40 41 42 43 44 45 46 47 48 49 50]\n"
          ],
          "name": "stdout"
        }
      ]
    },
    {
      "cell_type": "markdown",
      "metadata": {
        "id": "a7MtxtLu9viU",
        "colab_type": "text"
      },
      "source": [
        "#### Create a Numpy 1d array consisting of all the even integers only from 10 to 50\n",
        "\n",
        "`array([10, 12, 14, 16, 18, 20, 22, 24, 26, 28, 30, 32, 34, 36, 38, 40, 42,\n",
        "       44, 46, 48, 50])`"
      ]
    },
    {
      "cell_type": "code",
      "metadata": {
        "id": "62okgZER9viV",
        "colab_type": "code",
        "colab": {
          "base_uri": "https://localhost:8080/",
          "height": 34
        },
        "outputId": "15a1c087-65f8-4e63-8e19-1d613472bef1"
      },
      "source": [
        "list_even=[i for i in range(10,51,2)]\n",
        "arr_even=np.array(list_even)\n",
        "print(arr_even)"
      ],
      "execution_count": null,
      "outputs": [
        {
          "output_type": "stream",
          "text": [
            "[10 12 14 16 18 20 22 24 26 28 30 32 34 36 38 40 42 44 46 48 50]\n"
          ],
          "name": "stdout"
        }
      ]
    },
    {
      "cell_type": "markdown",
      "metadata": {
        "id": "hQVdqbd69via",
        "colab_type": "text"
      },
      "source": [
        "#### Create a Numpy 2d array with shape (3,3) having all entries as 1\n",
        "\n",
        "`array([[1., 1., 1.],\n",
        "       [1., 1., 1.],\n",
        "       [1., 1., 1.]])`"
      ]
    },
    {
      "cell_type": "code",
      "metadata": {
        "id": "QoUOQe-s9vid",
        "colab_type": "code",
        "colab": {
          "base_uri": "https://localhost:8080/",
          "height": 68
        },
        "outputId": "2e00404b-3c01-4394-a01e-331a9d7bfa27"
      },
      "source": [
        "arr_one=np.ones((3,3))\n",
        "print(arr_one)"
      ],
      "execution_count": null,
      "outputs": [
        {
          "output_type": "stream",
          "text": [
            "[[1. 1. 1.]\n",
            " [1. 1. 1.]\n",
            " [1. 1. 1.]]\n"
          ],
          "name": "stdout"
        }
      ]
    },
    {
      "cell_type": "markdown",
      "metadata": {
        "id": "M4Go5Hvl9vih",
        "colab_type": "text"
      },
      "source": [
        "#### Create a Numpy 2d array with shape (10,10) having all diagonal entries as 1 and all others as 0\n",
        "\n",
        "`array([[1., 0., 0., 0., 0., 0., 0., 0., 0., 0.],\n",
        "       [0., 1., 0., 0., 0., 0., 0., 0., 0., 0.],\n",
        "       [0., 0., 1., 0., 0., 0., 0., 0., 0., 0.],\n",
        "       [0., 0., 0., 1., 0., 0., 0., 0., 0., 0.],\n",
        "       [0., 0., 0., 0., 1., 0., 0., 0., 0., 0.],\n",
        "       [0., 0., 0., 0., 0., 1., 0., 0., 0., 0.],\n",
        "       [0., 0., 0., 0., 0., 0., 1., 0., 0., 0.],\n",
        "       [0., 0., 0., 0., 0., 0., 0., 1., 0., 0.],\n",
        "       [0., 0., 0., 0., 0., 0., 0., 0., 1., 0.],\n",
        "       [0., 0., 0., 0., 0., 0., 0., 0., 0., 1.]])`"
      ]
    },
    {
      "cell_type": "code",
      "metadata": {
        "id": "VzAsEmWz9vii",
        "colab_type": "code",
        "colab": {
          "base_uri": "https://localhost:8080/",
          "height": 187
        },
        "outputId": "8948b7d0-0169-4e21-9511-10430f48ba83"
      },
      "source": [
        "arr_iden=np.identity(10)\n",
        "print(arr_iden)"
      ],
      "execution_count": null,
      "outputs": [
        {
          "output_type": "stream",
          "text": [
            "[[1. 0. 0. 0. 0. 0. 0. 0. 0. 0.]\n",
            " [0. 1. 0. 0. 0. 0. 0. 0. 0. 0.]\n",
            " [0. 0. 1. 0. 0. 0. 0. 0. 0. 0.]\n",
            " [0. 0. 0. 1. 0. 0. 0. 0. 0. 0.]\n",
            " [0. 0. 0. 0. 1. 0. 0. 0. 0. 0.]\n",
            " [0. 0. 0. 0. 0. 1. 0. 0. 0. 0.]\n",
            " [0. 0. 0. 0. 0. 0. 1. 0. 0. 0.]\n",
            " [0. 0. 0. 0. 0. 0. 0. 1. 0. 0.]\n",
            " [0. 0. 0. 0. 0. 0. 0. 0. 1. 0.]\n",
            " [0. 0. 0. 0. 0. 0. 0. 0. 0. 1.]]\n"
          ],
          "name": "stdout"
        }
      ]
    },
    {
      "cell_type": "markdown",
      "metadata": {
        "id": "hFYGnoJo9vim",
        "colab_type": "text"
      },
      "source": [
        "#### Create a Numpy 2d array with shape (5,6) consisting of values ranging from 1 to 30\n",
        "\n",
        "`array([[ 1,  2,  3,  4,  5,  6],\n",
        "       [ 7,  8,  9, 10, 11, 12],\n",
        "       [13, 14, 15, 16, 17, 18],\n",
        "       [19, 20, 21, 22, 23, 24],\n",
        "       [25, 26, 27, 28, 29, 30]])`"
      ]
    },
    {
      "cell_type": "code",
      "metadata": {
        "id": "WqH6lUS19vin",
        "colab_type": "code",
        "colab": {
          "base_uri": "https://localhost:8080/",
          "height": 102
        },
        "outputId": "b2e72252-44a5-4580-fb91-86b5b758bae7"
      },
      "source": [
        "list30=[i for i in range(1,31)]\n",
        "arr30=np.array(list30)\n",
        "arr30.shape=(5,6)\n",
        "print(arr30)"
      ],
      "execution_count": null,
      "outputs": [
        {
          "output_type": "stream",
          "text": [
            "[[ 1  2  3  4  5  6]\n",
            " [ 7  8  9 10 11 12]\n",
            " [13 14 15 16 17 18]\n",
            " [19 20 21 22 23 24]\n",
            " [25 26 27 28 29 30]]\n"
          ],
          "name": "stdout"
        }
      ]
    },
    {
      "cell_type": "markdown",
      "metadata": {
        "id": "v6GnL0-a9viq",
        "colab_type": "text"
      },
      "source": [
        "#### Create a Numpy 1d array consisting of a random number between 0 and 1\n",
        "\n",
        "`array([0.42829726])`"
      ]
    },
    {
      "cell_type": "code",
      "metadata": {
        "id": "Bysy4Y0Z9viq",
        "colab_type": "code",
        "colab": {
          "base_uri": "https://localhost:8080/",
          "height": 34
        },
        "outputId": "adb3115a-7cdc-4cb6-866b-7a6bc3e54451"
      },
      "source": [
        "arr_rand=np.random.rand(1)\n",
        "print(arr_rand)"
      ],
      "execution_count": null,
      "outputs": [
        {
          "output_type": "stream",
          "text": [
            "[0.82320915]\n"
          ],
          "name": "stdout"
        }
      ]
    },
    {
      "cell_type": "markdown",
      "metadata": {
        "id": "Psqi0iKJ9viu",
        "colab_type": "text"
      },
      "source": [
        "#### Create a Numpy 1d array consisting of six *random* numbers between 0 and 1\n",
        "\n",
        "`array([0.48986417, 0.61869789, 0.83943457, 0.94889576, 0.79561515, 0.28859058])`"
      ]
    },
    {
      "cell_type": "code",
      "metadata": {
        "id": "NQzitn6I9viv",
        "colab_type": "code",
        "colab": {
          "base_uri": "https://localhost:8080/",
          "height": 34
        },
        "outputId": "c66dbaf2-3b0d-4807-f62c-0fe87fb0cd42"
      },
      "source": [
        "arr_rand6=np.random.rand(6)\n",
        "print(arr_rand6)"
      ],
      "execution_count": null,
      "outputs": [
        {
          "output_type": "stream",
          "text": [
            "[0.89915486 0.6836686  0.41030588 0.27172682 0.55042212 0.91964677]\n"
          ],
          "name": "stdout"
        }
      ]
    },
    {
      "cell_type": "markdown",
      "metadata": {
        "id": "sh1A43Wr9vix",
        "colab_type": "text"
      },
      "source": [
        "#### Create a Numpy 2d array of shape (2,3) consisting of six *random* numbers between 0 and 1\n",
        "\n",
        "`array([[0.3991418 , 0.62631826, 0.82763635],\n",
        "       [0.9232742 , 0.08517427, 0.20155819]])`"
      ]
    },
    {
      "cell_type": "code",
      "metadata": {
        "id": "eWSKaOtV9viy",
        "colab_type": "code",
        "colab": {
          "base_uri": "https://localhost:8080/",
          "height": 51
        },
        "outputId": "da2f6e39-dbc9-47c8-9007-cad6e22d20f9"
      },
      "source": [
        "arr_rand6=np.random.rand(6)\n",
        "arr_rand6.shape=(2,3)\n",
        "print(arr_rand6)"
      ],
      "execution_count": null,
      "outputs": [
        {
          "output_type": "stream",
          "text": [
            "[[0.23524147 0.78219594 0.53700078]\n",
            " [0.30986963 0.52061616 0.00957964]]\n"
          ],
          "name": "stdout"
        }
      ]
    },
    {
      "cell_type": "markdown",
      "metadata": {
        "id": "9RPZPS2t9vi2",
        "colab_type": "text"
      },
      "source": [
        "#### Create a Numpy 1d array consisting of 25 random numbers sampled from a *Standard Normal Distribution*\n",
        "\n",
        "`array([-0.01804177, -0.11468092, -0.4790744 , -0.44706856,  0.49891779,\n",
        "        1.53806364, -1.03689237,  0.04379123, -0.6659274 , -0.54294319,\n",
        "       -0.08016372, -0.64441992, -0.12417271,  0.89901988, -0.08695241,\n",
        "        0.23540321,  1.77803936,  1.39912268,  0.19886053, -0.56546787,\n",
        "        0.09538678, -0.47930312,  2.15532489,  0.62643712,  1.19941788])`"
      ]
    },
    {
      "cell_type": "code",
      "metadata": {
        "id": "cRkc58PE9vi3",
        "colab_type": "code",
        "colab": {
          "base_uri": "https://localhost:8080/",
          "height": 68
        },
        "outputId": "bb6f9dbf-f5c4-481f-84f7-1601eb5b2805"
      },
      "source": [
        "arr_num=np.random.normal(0,1,15)\n",
        "print(arr_num)"
      ],
      "execution_count": null,
      "outputs": [
        {
          "output_type": "stream",
          "text": [
            "[ 0.59781477 -0.77558736  0.46894635 -0.38842396 -0.82841313 -0.11359239\n",
            "  0.77442284  1.93405296  0.72485624  0.98316549 -0.1867236   0.28653748\n",
            "  0.79056445 -1.89928437 -0.36497744]\n"
          ],
          "name": "stdout"
        }
      ]
    },
    {
      "cell_type": "markdown",
      "metadata": {
        "id": "8aUCAxYn9vi5",
        "colab_type": "text"
      },
      "source": [
        "#### Generate a *random* integer between 1 and 50\n",
        "\n",
        "`32`"
      ]
    },
    {
      "cell_type": "code",
      "metadata": {
        "id": "MuzCDtSt9vi6",
        "colab_type": "code",
        "colab": {
          "base_uri": "https://localhost:8080/",
          "height": 34
        },
        "outputId": "5986c200-4880-4fe8-90f4-ea7d02166085"
      },
      "source": [
        "arr_rand50=np.random.randint(1,51,1)\n",
        "print(arr_rand50)"
      ],
      "execution_count": null,
      "outputs": [
        {
          "output_type": "stream",
          "text": [
            "[33]\n"
          ],
          "name": "stdout"
        }
      ]
    },
    {
      "cell_type": "markdown",
      "metadata": {
        "id": "0tAAU66k9vi-",
        "colab_type": "text"
      },
      "source": [
        "#### Create a Numpy 1d array consisting of five *random* integers between 1 and 50\n",
        "\n",
        "`array([36, 30, 32, 14,  2])`"
      ]
    },
    {
      "cell_type": "code",
      "metadata": {
        "id": "PZKwB14u9vi_",
        "colab_type": "code",
        "colab": {
          "base_uri": "https://localhost:8080/",
          "height": 34
        },
        "outputId": "3a2447c6-b2f4-40e3-c1c2-7a6fc1d6d6e3"
      },
      "source": [
        "arr_randint=np.random.randint(1,51,5)\n",
        "print(arr_randint)"
      ],
      "execution_count": null,
      "outputs": [
        {
          "output_type": "stream",
          "text": [
            "[11 49 42  6 34]\n"
          ],
          "name": "stdout"
        }
      ]
    },
    {
      "cell_type": "markdown",
      "metadata": {
        "id": "bnZYIsXn9vjC",
        "colab_type": "text"
      },
      "source": [
        "#### Create a Numpy array consisting of 20 linearly spaced points between 0 and 1\n",
        "\n",
        "`array([ 0.        ,  0.05263158,  0.10526316,  0.15789474,  0.21052632,\n",
        "        0.26315789,  0.31578947,  0.36842105,  0.42105263,  0.47368421,\n",
        "        0.52631579,  0.57894737,  0.63157895,  0.68421053,  0.73684211,\n",
        "        0.78947368,  0.84210526,  0.89473684,  0.94736842,  1.        ])`"
      ]
    },
    {
      "cell_type": "code",
      "metadata": {
        "id": "_JmetU4z9vjC",
        "colab_type": "code",
        "colab": {
          "base_uri": "https://localhost:8080/",
          "height": 85
        },
        "outputId": "e5e5b893-d2f1-4eae-efd4-2dc2236ee59d"
      },
      "source": [
        "arr_linspace=np.linspace(0,1,num=20,dtype=float)\n",
        "print(arr_linspace)"
      ],
      "execution_count": null,
      "outputs": [
        {
          "output_type": "stream",
          "text": [
            "[0.         0.05263158 0.10526316 0.15789474 0.21052632 0.26315789\n",
            " 0.31578947 0.36842105 0.42105263 0.47368421 0.52631579 0.57894737\n",
            " 0.63157895 0.68421053 0.73684211 0.78947368 0.84210526 0.89473684\n",
            " 0.94736842 1.        ]\n"
          ],
          "name": "stdout"
        }
      ]
    },
    {
      "cell_type": "markdown",
      "metadata": {
        "id": "NzsvvSGH9vjF",
        "colab_type": "text"
      },
      "source": [
        "#### Create the following Numpy 2d array:\n",
        "\n",
        "`array([[ 0.01,  0.02,  0.03,  0.04,  0.05,  0.06,  0.07,  0.08,  0.09,  0.1 ],\n",
        "       [ 0.11,  0.12,  0.13,  0.14,  0.15,  0.16,  0.17,  0.18,  0.19,  0.2 ],\n",
        "       [ 0.21,  0.22,  0.23,  0.24,  0.25,  0.26,  0.27,  0.28,  0.29,  0.3 ],\n",
        "       [ 0.31,  0.32,  0.33,  0.34,  0.35,  0.36,  0.37,  0.38,  0.39,  0.4 ],\n",
        "       [ 0.41,  0.42,  0.43,  0.44,  0.45,  0.46,  0.47,  0.48,  0.49,  0.5 ],\n",
        "       [ 0.51,  0.52,  0.53,  0.54,  0.55,  0.56,  0.57,  0.58,  0.59,  0.6 ],\n",
        "       [ 0.61,  0.62,  0.63,  0.64,  0.65,  0.66,  0.67,  0.68,  0.69,  0.7 ],\n",
        "       [ 0.71,  0.72,  0.73,  0.74,  0.75,  0.76,  0.77,  0.78,  0.79,  0.8 ],\n",
        "       [ 0.81,  0.82,  0.83,  0.84,  0.85,  0.86,  0.87,  0.88,  0.89,  0.9 ],\n",
        "       [ 0.91,  0.92,  0.93,  0.94,  0.95,  0.96,  0.97,  0.98,  0.99,  1.  ]])`"
      ]
    },
    {
      "cell_type": "code",
      "metadata": {
        "id": "2s5ht6Eu9vjG",
        "colab_type": "code",
        "colab": {
          "base_uri": "https://localhost:8080/",
          "height": 187
        },
        "outputId": "993e3124-9251-4050-c3c3-95a50167ec59"
      },
      "source": [
        "list100=[i for i in range(1,101)]\n",
        "arr100=.01*np.array(list100)\n",
        "arr100.shape=(10,10)\n",
        "print(arr100)"
      ],
      "execution_count": null,
      "outputs": [
        {
          "output_type": "stream",
          "text": [
            "[[0.01 0.02 0.03 0.04 0.05 0.06 0.07 0.08 0.09 0.1 ]\n",
            " [0.11 0.12 0.13 0.14 0.15 0.16 0.17 0.18 0.19 0.2 ]\n",
            " [0.21 0.22 0.23 0.24 0.25 0.26 0.27 0.28 0.29 0.3 ]\n",
            " [0.31 0.32 0.33 0.34 0.35 0.36 0.37 0.38 0.39 0.4 ]\n",
            " [0.41 0.42 0.43 0.44 0.45 0.46 0.47 0.48 0.49 0.5 ]\n",
            " [0.51 0.52 0.53 0.54 0.55 0.56 0.57 0.58 0.59 0.6 ]\n",
            " [0.61 0.62 0.63 0.64 0.65 0.66 0.67 0.68 0.69 0.7 ]\n",
            " [0.71 0.72 0.73 0.74 0.75 0.76 0.77 0.78 0.79 0.8 ]\n",
            " [0.81 0.82 0.83 0.84 0.85 0.86 0.87 0.88 0.89 0.9 ]\n",
            " [0.91 0.92 0.93 0.94 0.95 0.96 0.97 0.98 0.99 1.  ]]\n"
          ],
          "name": "stdout"
        }
      ]
    },
    {
      "cell_type": "markdown",
      "metadata": {
        "id": "amdwWfRp9vjJ",
        "colab_type": "text"
      },
      "source": [
        "-----"
      ]
    },
    {
      "cell_type": "markdown",
      "metadata": {
        "collapsed": true,
        "id": "14k_WdTm9vjK",
        "colab_type": "text"
      },
      "source": [
        "# Great Job!"
      ]
    }
  ]
}